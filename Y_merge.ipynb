{
 "cells": [
  {
   "cell_type": "code",
   "execution_count": 1,
   "metadata": {},
   "outputs": [],
   "source": [
    "import pandas as pd\n",
    "\n",
    "from IPython.core.interactiveshell import InteractiveShell\n",
    "InteractiveShell.ast_node_interactivity='all'"
   ]
  },
  {
   "cell_type": "code",
   "execution_count": null,
   "metadata": {},
   "outputs": [],
   "source": [
    "#the final df is the result of the merge of the 3 dataframes\n",
    "# Time:from 2017~now\n",
    "# 10 coutries:'Brazil', 'Bulgaria', 'Canada', 'China', 'France', 'Germany','Japan', 'Portugal', 'Romania', 'Türkiye'\n",
    "# 5 seperate variables"
   ]
  },
  {
   "cell_type": "markdown",
   "metadata": {},
   "source": [
    "## 1\\International Trade Data--Monthly"
   ]
  },
  {
   "cell_type": "code",
   "execution_count": 69,
   "metadata": {},
   "outputs": [
    {
     "name": "stderr",
     "output_type": "stream",
     "text": [
      "d:\\subtle tools\\Anaconda\\lib\\site-packages\\IPython\\core\\interactiveshell.py:3146: DtypeWarning: Columns (6,20,21) have mixed types.Specify dtype option on import or set low_memory=False.\n",
      "  has_raised = await self.run_ast_nodes(code_ast.body, cell_name,\n"
     ]
    }
   ],
   "source": [
    "# read csv file\n",
    "# find import&export data are identical, so just load one of them\n",
    "df1 = pd.read_csv(r'D:\\UN\\data_in_use\\trade\\2017-2021monthly\\goods_import.csv', encoding='iso8859-1')\n",
    "\n",
    "df3 = pd.read_csv(r'D:\\UN\\data_in_use\\trade\\2017-2021monthly\\service_import.csv', encoding='iso8859-1')"
   ]
  },
  {
   "cell_type": "code",
   "execution_count": 22,
   "metadata": {},
   "outputs": [],
   "source": [
    "# 处理df1: merchandise import/export\n",
    "## 只有进出口不一样。Product/Service全都是total\n",
    "df1 = df1[['Reporting Economy', 'Indicator', 'Year', 'Period', 'Value']]\n",
    "\n",
    "temp_ex = df1[df1['Indicator'] == 'Total merchandise exports - monthly']\n",
    "temp_im = df1[df1['Indicator'] == 'Total merchandise imports - monthly']\n",
    "# merge\n",
    "temp = pd.merge(temp_ex, temp_im, on=['Reporting Economy', 'Year', 'Period'])\n",
    "# remove the indicator column\n",
    "temp = temp[['Reporting Economy', 'Year', 'Period', 'Value_x', 'Value_y']]\n",
    "# rename the columns\n",
    "temp.columns = ['Reporting Economy', 'Year', 'Period', 'goods_export', 'goods_import']\n",
    "\n",
    "merchandise_trade = temp"
   ]
  },
  {
   "cell_type": "code",
   "execution_count": 23,
   "metadata": {},
   "outputs": [],
   "source": [
    "# select the columns& temp_ex['Reporting Economy']=='China'\n",
    "# temp_ex[(temp_ex['Year']==2017)& (temp_ex['Period']=='January')& (temp_ex['Reporting Economy']=='China')]\n",
    "# it's more quick to check the data in excel"
   ]
  },
  {
   "cell_type": "code",
   "execution_count": 71,
   "metadata": {},
   "outputs": [],
   "source": [
    "# 处理df3/df4: service import/export\n",
    "# 除了进出口不一样，还有Product/Sector不一样\n",
    "df3 = df3[['Reporting Economy', 'Indicator', 'Year', 'Period', 'Value','Product/Sector']]\n",
    "df3 = df3[df3['Product/Sector'] == 'Commercial services']\n",
    "\n",
    "temp_ex = df3[df3['Indicator'] == 'Commercial services exports of selected economies ?monthly']\n",
    "temp_im = df3[df3['Indicator'] == 'Commercial services imports of selected economies ?monthly']\n",
    "# merge\n",
    "temp = pd.merge(temp_ex, temp_im, on=['Reporting Economy', 'Year', 'Period'])\n",
    "# remove the indicator column\n",
    "temp = temp[['Reporting Economy', 'Year', 'Period', 'Value_x', 'Value_y']]\n",
    "# rename the columns\n",
    "temp.columns = ['Reporting Economy', 'Year', 'Period', 'service_export', 'service_import']\n",
    "\n",
    "service_trade = temp"
   ]
  },
  {
   "cell_type": "code",
   "execution_count": 72,
   "metadata": {},
   "outputs": [
    {
     "data": {
      "text/plain": [
       "75"
      ]
     },
     "execution_count": 72,
     "metadata": {},
     "output_type": "execute_result"
    },
    {
     "data": {
      "text/plain": [
       "18"
      ]
     },
     "execution_count": 72,
     "metadata": {},
     "output_type": "execute_result"
    },
    {
     "data": {
      "text/plain": [
       "15"
      ]
     },
     "execution_count": 72,
     "metadata": {},
     "output_type": "execute_result"
    },
    {
     "data": {
      "text/plain": [
       "{'Brazil',\n",
       " 'Bulgaria',\n",
       " 'Canada',\n",
       " 'China',\n",
       " 'France',\n",
       " 'Germany',\n",
       " 'Japan',\n",
       " 'Korea, Republic of',\n",
       " 'North Macedonia',\n",
       " 'Philippines',\n",
       " 'Portugal',\n",
       " 'Romania',\n",
       " 'Türkiye',\n",
       " 'Ukraine',\n",
       " 'United States of America'}"
      ]
     },
     "execution_count": 72,
     "metadata": {},
     "output_type": "execute_result"
    }
   ],
   "source": [
    "# count the number of countries\n",
    "len(merchandise_trade['Reporting Economy'].unique())\n",
    "len(service_trade['Reporting Economy'].unique())\n",
    "\n",
    "# intersection: full data in such countries\n",
    "len(set(merchandise_trade['Reporting Economy'].unique()) & set(service_trade['Reporting Economy'].unique()))\n",
    "set(merchandise_trade['Reporting Economy'].unique()) & set(service_trade['Reporting Economy'].unique())"
   ]
  },
  {
   "cell_type": "code",
   "execution_count": 73,
   "metadata": {},
   "outputs": [],
   "source": [
    "# we will remove the uk, because of war\n",
    "# also, it dose not have the GDP data"
   ]
  },
  {
   "cell_type": "markdown",
   "metadata": {},
   "source": [
    "## 2\\Data of Production Integration Index--Quarterly"
   ]
  },
  {
   "cell_type": "code",
   "execution_count": 74,
   "metadata": {},
   "outputs": [],
   "source": [
    "gdp = pd.read_csv(r'D:\\UN\\data_in_use\\trade\\quarterly\\GDP\\GDP.csv')\n",
    "\n",
    "# artificially match the location with the country name(Reporting Economy)\n",
    "# Bra BGR CAN CHN FRA DEU JPN KOR MKD PHL PRT ROU TUR UKR USA\n",
    "# select above countries\n",
    "gdp = gdp[gdp['LOCATION'].isin(['BRA', 'BGR', 'CAN', 'CHN', 'FRA', 'DEU', 'JPN', 'KOR', 'MKD', 'PHL', 'PRT', 'ROU', 'TUR', 'UKR', 'USA'])]\n",
    "\n",
    "gdp = gdp[['LOCATION', 'TIME', 'Value']]\n",
    "# change the location to country name\n",
    "gdp['LOCATION'] = gdp['LOCATION'].replace(['BRA', 'BGR', 'CAN', 'CHN', 'FRA', 'DEU', 'JPN', 'KOR', 'MKD', 'PHL', 'PRT', 'ROU', 'TUR', 'UKR', 'USA'], ['Brazil', 'Bulgaria', 'Canada', 'China', 'France', 'Germany', 'Japan', 'Korea', 'North Macedonia', 'Philippines', 'Portugal', 'Romania', 'Türkiye', 'Ukraine', 'United States'])"
   ]
  },
  {
   "cell_type": "code",
   "execution_count": 75,
   "metadata": {},
   "outputs": [],
   "source": [
    "# TIME convert to year and month\n",
    "gdp['TIME'] = gdp['TIME'].astype(str)\n",
    "gdp['year'] = gdp['TIME'].str[:4]\n",
    "gdp['month'] = gdp['TIME'].str[4:]\n",
    "gdp['month'] = gdp['month'].replace(['-Q1', '-Q2', '-Q3', '-Q4'], ['January', 'April', 'July', 'October'])\n",
    "gdp = gdp[['LOCATION', 'year', 'month', 'Value']]\n",
    "gdp.columns = ['Reporting Economy', 'Year', 'Period', 'GDP']\n"
   ]
  },
  {
   "cell_type": "code",
   "execution_count": 76,
   "metadata": {},
   "outputs": [
    {
     "data": {
      "text/plain": [
       "array(['Korea', 'Japan', 'Canada', 'Brazil', 'United States', 'Türkiye',\n",
       "       'Germany', 'Portugal', 'China', 'France', 'Bulgaria', 'Romania'],\n",
       "      dtype=object)"
      ]
     },
     "execution_count": 76,
     "metadata": {},
     "output_type": "execute_result"
    }
   ],
   "source": [
    "# make a difference between the country name and the location\n",
    "# elementwise comparison\n",
    "# MKD,PHL,UKR\n",
    "# finally 12 countries\n",
    "gdp['Reporting Economy'].unique()"
   ]
  },
  {
   "cell_type": "code",
   "execution_count": null,
   "metadata": {},
   "outputs": [],
   "source": []
  },
  {
   "cell_type": "code",
   "execution_count": null,
   "metadata": {},
   "outputs": [],
   "source": []
  },
  {
   "cell_type": "code",
   "execution_count": 77,
   "metadata": {},
   "outputs": [],
   "source": [
    "invest = pd.read_csv(r'D:\\UN\\data_in_use\\trade\\quarterly\\investment\\investment.csv')\n",
    "\n",
    "invest = invest[invest['LOCATION'].isin(['BRA', 'BGR', 'CAN', 'CHN', 'FRA', 'DEU', 'JPN', 'KOR', 'MKD', 'PHL', 'PRT', 'ROU', 'TUR', 'UKR', 'USA'])]"
   ]
  },
  {
   "cell_type": "code",
   "execution_count": 78,
   "metadata": {},
   "outputs": [
    {
     "data": {
      "text/plain": [
       "array(['CAN', 'FRA', 'DEU', 'JPN', 'KOR', 'PRT', 'TUR', 'USA', 'BRA',\n",
       "       'BGR', 'ROU'], dtype=object)"
      ]
     },
     "execution_count": 78,
     "metadata": {},
     "output_type": "execute_result"
    }
   ],
   "source": [
    "invest.LOCATION.unique()\n",
    "# no china data"
   ]
  },
  {
   "cell_type": "markdown",
   "metadata": {},
   "source": [
    "## Merge Y"
   ]
  },
  {
   "cell_type": "code",
   "execution_count": 79,
   "metadata": {},
   "outputs": [],
   "source": [
    "# availabe data\n",
    "# service_trade; merchandise_trade; gdp; invest"
   ]
  },
  {
   "cell_type": "code",
   "execution_count": 80,
   "metadata": {},
   "outputs": [],
   "source": [
    "# merge service_trade and merchandise_trade\n",
    "global_trade = pd.merge(service_trade, merchandise_trade, on=['Reporting Economy', 'Year', 'Period'],how='inner')"
   ]
  },
  {
   "cell_type": "code",
   "execution_count": 81,
   "metadata": {},
   "outputs": [
    {
     "data": {
      "text/plain": [
       "15"
      ]
     },
     "execution_count": 81,
     "metadata": {},
     "output_type": "execute_result"
    }
   ],
   "source": [
    "len(global_trade['Reporting Economy'].unique())"
   ]
  },
  {
   "cell_type": "code",
   "execution_count": 82,
   "metadata": {},
   "outputs": [
    {
     "data": {
      "text/plain": [
       "array(['Brazil', 'Bulgaria', 'Canada', 'China', 'France', 'Germany',\n",
       "       'Japan', 'Korea, Republic of', 'Philippines', 'Portugal',\n",
       "       'Romania', 'Türkiye', 'Ukraine', 'North Macedonia',\n",
       "       'United States of America'], dtype=object)"
      ]
     },
     "execution_count": 82,
     "metadata": {},
     "output_type": "execute_result"
    },
    {
     "data": {
      "text/plain": [
       "array(['Korea', 'Japan', 'Canada', 'Brazil', 'United States', 'Türkiye',\n",
       "       'Germany', 'Portugal', 'China', 'France', 'Bulgaria', 'Romania'],\n",
       "      dtype=object)"
      ]
     },
     "execution_count": 82,
     "metadata": {},
     "output_type": "execute_result"
    },
    {
     "data": {
      "text/plain": [
       "{'Korea, Republic of',\n",
       " 'North Macedonia',\n",
       " 'Philippines',\n",
       " 'Ukraine',\n",
       " 'United States of America'}"
      ]
     },
     "execution_count": 82,
     "metadata": {},
     "output_type": "execute_result"
    }
   ],
   "source": [
    "# unique\n",
    "global_trade['Reporting Economy'].unique()\n",
    "gdp['Reporting Economy'].unique()\n",
    "# difference\n",
    "set(global_trade['Reporting Economy'].unique()) - set(gdp['Reporting Economy'].unique())"
   ]
  },
  {
   "cell_type": "code",
   "execution_count": 83,
   "metadata": {},
   "outputs": [],
   "source": [
    "# remove the countries\n",
    "global_trade = global_trade[global_trade['Reporting Economy'].isin(['Korea', 'Japan', 'Canada', 'Brazil', 'United States', 'Türkiye',\n",
    "       'Germany', 'Portugal', 'China', 'France', 'Bulgaria', 'Romania'])]"
   ]
  },
  {
   "cell_type": "code",
   "execution_count": 84,
   "metadata": {},
   "outputs": [
    {
     "data": {
      "text/plain": [
       "array(['Brazil', 'Bulgaria', 'Canada', 'China', 'France', 'Germany',\n",
       "       'Japan', 'Portugal', 'Romania', 'Türkiye'], dtype=object)"
      ]
     },
     "execution_count": 84,
     "metadata": {},
     "output_type": "execute_result"
    }
   ],
   "source": [
    "# unique\n",
    "# 最后只剩10个\n",
    "global_trade['Reporting Economy'].unique()"
   ]
  },
  {
   "cell_type": "code",
   "execution_count": 85,
   "metadata": {},
   "outputs": [],
   "source": [
    "# merge global_trade and gdp\n",
    "# ValueError: You are trying to merge on int64 and object columns. If you wish to proceed you should use pd.concat\n",
    "# change the type of year\n",
    "global_trade['Year'] = global_trade['Year'].astype(str)\n",
    "full_df = pd.merge(global_trade, gdp, on=['Reporting Economy', 'Year', 'Period'],how='left')"
   ]
  },
  {
   "cell_type": "code",
   "execution_count": 86,
   "metadata": {},
   "outputs": [],
   "source": [
    "# convert period to number\n",
    "full_df['Period'] = full_df['Period'].replace(['January', 'February','March','April', 'May','June','July','August','September', 'October','November','December'], \n",
    "[1, 2, 3, 4,5,6,7,8,9,10,11,12])\n",
    "# sort by reporting economy, year and month\n",
    "full_df = full_df.sort_values(by=['Reporting Economy','Year','Period'], ascending=True)\n"
   ]
  },
  {
   "cell_type": "code",
   "execution_count": 87,
   "metadata": {},
   "outputs": [],
   "source": [
    "# foward fill the gdp\n",
    "full_df['GDP'] = full_df['GDP'].fillna(method='ffill')"
   ]
  },
  {
   "cell_type": "code",
   "execution_count": null,
   "metadata": {},
   "outputs": [],
   "source": []
  },
  {
   "cell_type": "code",
   "execution_count": null,
   "metadata": {},
   "outputs": [],
   "source": []
  },
  {
   "cell_type": "code",
   "execution_count": 89,
   "metadata": {},
   "outputs": [],
   "source": [
    "# save the data\n",
    "full_df.to_csv(r'D:\\UN\\data_in_use\\full_df.csv', index=False)"
   ]
  },
  {
   "cell_type": "code",
   "execution_count": null,
   "metadata": {},
   "outputs": [],
   "source": []
  }
 ],
 "metadata": {
  "kernelspec": {
   "display_name": "Python 3.8.5 ('base')",
   "language": "python",
   "name": "python3"
  },
  "language_info": {
   "codemirror_mode": {
    "name": "ipython",
    "version": 3
   },
   "file_extension": ".py",
   "mimetype": "text/x-python",
   "name": "python",
   "nbconvert_exporter": "python",
   "pygments_lexer": "ipython3",
   "version": "3.8.5"
  },
  "orig_nbformat": 4,
  "vscode": {
   "interpreter": {
    "hash": "b9308ab7228b04461a2cfb0d98359eac628ba96465a05adb21b4861862892960"
   }
  }
 },
 "nbformat": 4,
 "nbformat_minor": 2
}
